{
  "nbformat": 4,
  "nbformat_minor": 0,
  "metadata": {
    "colab": {
      "provenance": []
    },
    "kernelspec": {
      "name": "python3",
      "display_name": "Python 3"
    },
    "language_info": {
      "name": "python"
    }
  },
  "cells": [
    {
      "cell_type": "markdown",
      "source": [
        "**Project Theme:**\n",
        "Climate Risk & Disaster Management\n",
        "\n",
        "**Project Title:**\n",
        "Landslide Risk Prediction\n",
        "\n",
        "**Problem Statement:**\n",
        "Landslides cause significant damage to lives, infrastructure, and the environment. Predicting landslide risk levels (Low, Moderate, High, Very High) based on factors like temperature, humidity, precipitation, soil moisture, and elevation can help mitigate these impacts. Accurate risk assessment supports early warning systems, disaster management, and safer land-use planning.\n",
        "\n",
        "**Description:**\n",
        "This project uses a dataset containing environmental measurements such as temperature, humidity, precipitation, soil moisture, and elevation to build machine learning models that predict landslide risk levels. The models will reveal how weather patterns and terrain features influence landslide susceptibility. The insights can improve disaster preparedness, land management, and infrastructure development in vulnerable regions."
      ],
      "metadata": {
        "id": "3pZrDXKRN_af"
      }
    },
    {
      "cell_type": "markdown",
      "source": [
        "*Import necessary libraries*"
      ],
      "metadata": {
        "id": "cNhyIAEQL9fI"
      }
    },
    {
      "cell_type": "code",
      "execution_count": 1,
      "metadata": {
        "id": "niJqIRb_LDqh"
      },
      "outputs": [],
      "source": [
        "import pandas as pd\n",
        "import numpy as np\n",
        "from sklearn.preprocessing import LabelEncoder"
      ]
    },
    {
      "cell_type": "markdown",
      "source": [
        "*Load The Dataset*"
      ],
      "metadata": {
        "id": "qEV7VZ4CMKiS"
      }
    },
    {
      "cell_type": "code",
      "source": [
        "df = pd.read_csv('/content/regenerated_landslide_risk_dataset.csv')"
      ],
      "metadata": {
        "id": "544j-nHVMGen"
      },
      "execution_count": 2,
      "outputs": []
    },
    {
      "cell_type": "markdown",
      "source": [
        "*Explore The Dataset*"
      ],
      "metadata": {
        "id": "s1rA96VcMU0J"
      }
    },
    {
      "cell_type": "code",
      "source": [
        "print(\"Data Head:\")\n",
        "print(df.head())"
      ],
      "metadata": {
        "colab": {
          "base_uri": "https://localhost:8080/"
        },
        "id": "c-gAisIasHlC",
        "outputId": "4c7cc9c3-a94a-4da8-a4ae-eb3394bf1e6e"
      },
      "execution_count": 3,
      "outputs": [
        {
          "output_type": "stream",
          "name": "stdout",
          "text": [
            "Data Head:\n",
            "   Temperature (°C)  Humidity (%)  Precipitation (mm)  Soil Moisture (%)  \\\n",
            "0                17            68                 176                 64   \n",
            "1                26            33                  65                 24   \n",
            "2                16            81                  56                 52   \n",
            "3                25            53                 136                 70   \n",
            "4                34            77                  23                 37   \n",
            "\n",
            "   Elevation (m) Landslide Risk Prediction  \n",
            "0            120                       Low  \n",
            "1            672                       Low  \n",
            "2             36                       Low  \n",
            "3            583                       Low  \n",
            "4            130                       Low  \n"
          ]
        }
      ]
    },
    {
      "cell_type": "code",
      "source": [
        "print(\"Data Info:\")\n",
        "print(df.info())"
      ],
      "metadata": {
        "colab": {
          "base_uri": "https://localhost:8080/"
        },
        "id": "IEj-a1SBMj2I",
        "outputId": "46953ea3-e088-4cec-ff52-71bb4e07114d"
      },
      "execution_count": 4,
      "outputs": [
        {
          "output_type": "stream",
          "name": "stdout",
          "text": [
            "Data Info:\n",
            "<class 'pandas.core.frame.DataFrame'>\n",
            "RangeIndex: 5000 entries, 0 to 4999\n",
            "Data columns (total 6 columns):\n",
            " #   Column                     Non-Null Count  Dtype \n",
            "---  ------                     --------------  ----- \n",
            " 0   Temperature (°C)           5000 non-null   int64 \n",
            " 1   Humidity (%)               5000 non-null   int64 \n",
            " 2   Precipitation (mm)         5000 non-null   int64 \n",
            " 3   Soil Moisture (%)          5000 non-null   int64 \n",
            " 4   Elevation (m)              5000 non-null   int64 \n",
            " 5   Landslide Risk Prediction  5000 non-null   object\n",
            "dtypes: int64(5), object(1)\n",
            "memory usage: 234.5+ KB\n",
            "None\n"
          ]
        }
      ]
    },
    {
      "cell_type": "code",
      "source": [
        "print(\"Descriptive Stats:\")\n",
        "print(df.describe())"
      ],
      "metadata": {
        "colab": {
          "base_uri": "https://localhost:8080/"
        },
        "id": "Y3EXZDq5NA8T",
        "outputId": "2490a315-b3c9-4dcc-d25f-0a69aa7d69fc"
      },
      "execution_count": 5,
      "outputs": [
        {
          "output_type": "stream",
          "name": "stdout",
          "text": [
            "Descriptive Stats:\n",
            "       Temperature (°C)  Humidity (%)  Precipitation (mm)  Soil Moisture (%)  \\\n",
            "count       5000.000000   5000.000000         5000.000000        5000.000000   \n",
            "mean          24.815800     62.614000          123.126400          54.915800   \n",
            "std            6.052867     19.108533           72.144734          20.345788   \n",
            "min           15.000000     30.000000            0.000000          20.000000   \n",
            "25%           20.000000     46.000000           61.000000          37.000000   \n",
            "50%           25.000000     63.000000          121.000000          55.000000   \n",
            "75%           30.000000     79.000000          186.000000          72.250000   \n",
            "max           35.000000     95.000000          250.000000          90.000000   \n",
            "\n",
            "       Elevation (m)  \n",
            "count    5000.000000  \n",
            "mean      503.015800  \n",
            "std       288.700745  \n",
            "min         0.000000  \n",
            "25%       253.000000  \n",
            "50%       505.000000  \n",
            "75%       757.000000  \n",
            "max      1000.000000  \n"
          ]
        }
      ]
    },
    {
      "cell_type": "code",
      "source": [
        "print(\"Missing Values:\")\n",
        "print(df.isnull().sum())\n",
        "print(\"\\nTotal Missing Values Count:\",df.isnull().sum().sum())"
      ],
      "metadata": {
        "colab": {
          "base_uri": "https://localhost:8080/"
        },
        "id": "S8FKHXymNCmv",
        "outputId": "33aba386-26c9-4e33-9d38-2287637079f8"
      },
      "execution_count": 6,
      "outputs": [
        {
          "output_type": "stream",
          "name": "stdout",
          "text": [
            "Missing Values:\n",
            "Temperature (°C)             0\n",
            "Humidity (%)                 0\n",
            "Precipitation (mm)           0\n",
            "Soil Moisture (%)            0\n",
            "Elevation (m)                0\n",
            "Landslide Risk Prediction    0\n",
            "dtype: int64\n",
            "\n",
            "Total Missing Values Count: 0\n"
          ]
        }
      ]
    },
    {
      "cell_type": "markdown",
      "source": [
        "*Preprocess Data*"
      ],
      "metadata": {
        "id": "8isBnmw8sVch"
      }
    },
    {
      "cell_type": "code",
      "source": [
        "print(\"Unique values in target column before encoding:\", df['Landslide Risk Prediction'].unique())\n",
        "le = LabelEncoder()\n",
        "df['Landslide Risk Prediction'] = le.fit_transform(df['Landslide Risk Prediction'])\n",
        "print(\"Data Head after preprocessing:\")\n",
        "print(df.head())\n",
        "print(\"Unique values in target column after encoding:\", df['Landslide Risk Prediction'].unique())"
      ],
      "metadata": {
        "colab": {
          "base_uri": "https://localhost:8080/"
        },
        "id": "3RAh2q3AsURW",
        "outputId": "db58fc50-99f5-4bb6-e7da-5db8ef85e206"
      },
      "execution_count": 7,
      "outputs": [
        {
          "output_type": "stream",
          "name": "stdout",
          "text": [
            "Unique values in target column before encoding: ['Low' 'Moderate' 'High' 'Very High']\n",
            "Data Head after preprocessing:\n",
            "   Temperature (°C)  Humidity (%)  Precipitation (mm)  Soil Moisture (%)  \\\n",
            "0                17            68                 176                 64   \n",
            "1                26            33                  65                 24   \n",
            "2                16            81                  56                 52   \n",
            "3                25            53                 136                 70   \n",
            "4                34            77                  23                 37   \n",
            "\n",
            "   Elevation (m)  Landslide Risk Prediction  \n",
            "0            120                          1  \n",
            "1            672                          1  \n",
            "2             36                          1  \n",
            "3            583                          1  \n",
            "4            130                          1  \n",
            "Unique values in target column after encoding: [1 2 0 3]\n"
          ]
        }
      ]
    }
  ]
}